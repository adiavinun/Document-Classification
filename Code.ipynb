{
 "cells": [
  {
   "cell_type": "markdown",
   "metadata": {},
   "source": [
    "# Text pre-processing and exploration:"
   ]
  },
  {
   "cell_type": "code",
   "execution_count": 1,
   "metadata": {},
   "outputs": [],
   "source": [
    "from google.colab import drive\n",
    "drive.mount('/content/drive')"
   ]
  },
  {
   "cell_type": "code",
   "execution_count": 2,
   "metadata": {},
   "outputs": [],
   "source": [
    "data_path = \"/content/drive/My Drive/IMDB Dataset.csv\""
   ]
  },
  {
   "cell_type": "code",
   "execution_count": 3,
   "metadata": {},
   "outputs": [
    {
     "name": "stderr",
     "output_type": "stream",
     "text": [
      "[nltk_data] Downloading package stopwords to\n",
      "[nltk_data]     C:\\Users\\eden0\\AppData\\Roaming\\nltk_data...\n",
      "[nltk_data]   Package stopwords is already up-to-date!\n",
      "[nltk_data] Downloading package punkt to\n",
      "[nltk_data]     C:\\Users\\eden0\\AppData\\Roaming\\nltk_data...\n",
      "[nltk_data]   Package punkt is already up-to-date!\n"
     ]
    }
   ],
   "source": [
    "import os\n",
    "import nltk\n",
    "nltk.download('stopwords')\n",
    "nltk.download('punkt')\n",
    "import pandas as pd\n",
    "import numpy as np\n",
    "import sklearn\n",
    "from nltk.tokenize import word_tokenize\n",
    "from nltk.corpus import stopwords\n",
    "from nltk.stem import PorterStemmer"
   ]
  },
  {
   "cell_type": "code",
   "execution_count": 4,
   "metadata": {},
   "outputs": [],
   "source": [
    "stop_words = (stopwords.words('english'))\n",
    "dataset_path = r\"C:\\Users\\eden0\\Desktop\\IMDB Dataset.csv\"\n",
    "\n",
    "positive_counter = 0\n",
    "negative_counter = 0\n",
    "positive_word_dic = {}\n",
    "negative_word_dic = {}\n",
    "\n",
    "def preprocessing_exploration(dataset):\n",
    "    global positive_counter\n",
    "    global negative_counter\n",
    "    global positive_word_dic\n",
    "    global negative_word_dic\n",
    "    \n",
    "    for ind in dataset.index:\n",
    "        tokens = nltk.word_tokenize(dataset['review'][ind])\n",
    "        isPositive = False\n",
    "        if dataset['sentiment'][ind] == 'positive':\n",
    "            isPositive = True\n",
    "            positive_counter += 1\n",
    "        else:\n",
    "            negative_counter += 1\n",
    "\n",
    "        review_after_preprocess = \"\"\n",
    "        for word in tokens:\n",
    "            word = word.lower()\n",
    "            if word not in stop_words and word.isalpha() and len(word) > 1 and word != \"br\":\n",
    "                word = PorterStemmer().stem(word)\n",
    "                review_after_preprocess += word + \" \"\n",
    "                if isPositive:\n",
    "                    if word not in positive_word_dic:\n",
    "                        positive_word_dic[word] = 1\n",
    "                    else:\n",
    "                        word_counter = positive_word_dic[word]\n",
    "                        word_counter += 1\n",
    "                        positive_word_dic[word] = word_counter\n",
    "                else:\n",
    "                    if word not in negative_word_dic:\n",
    "                        negative_word_dic[word] = 1\n",
    "                    else:\n",
    "                        word_counter = negative_word_dic[word]\n",
    "                        word_counter += 1\n",
    "                        negative_word_dic[word] = word_counter\n",
    "        dataset['review'][ind] = review_after_preprocess\n",
    "    return dataset\n",
    "\n",
    "\n",
    "dataset_after_preprocessing = preprocessing_exploration(pd.read_csv(data_path))"
   ]
  },
  {
   "cell_type": "code",
   "execution_count": 5,
   "metadata": {},
   "outputs": [],
   "source": [
    "pos_bigram_dictionary = {}\n",
    "neg_bigram_dictionary = {}\n",
    "\n",
    "# create bigram dictionary\n",
    "for ind in dataset_after_preprocessing.index:\n",
    "    nltk_tokens = nltk.word_tokenize(dataset_after_preprocessing['review'][ind])\n",
    "    for token in list(nltk.bigrams(nltk_tokens)):\n",
    "        if dataset_after_preprocessing['sentiment'][ind] == 'positive':\n",
    "            if token not in pos_bigram_dictionary:\n",
    "                pos_bigram_dictionary[token] = 1\n",
    "            else:\n",
    "                word_counter = pos_bigram_dictionary[token]\n",
    "                word_counter += 1\n",
    "                pos_bigram_dictionary[token] = word_counter\n",
    "        else:\n",
    "            if token not in neg_bigram_dictionary:\n",
    "                neg_bigram_dictionary[token] = 1\n",
    "            else:\n",
    "                word_counter = neg_bigram_dictionary[token]\n",
    "                word_counter += 1\n",
    "                neg_bigram_dictionary[token] = word_counter"
   ]
  },
  {
   "cell_type": "markdown",
   "metadata": {},
   "source": [
    "## Split to train and test (50%, 50%) "
   ]
  },
  {
   "cell_type": "code",
   "execution_count": 6,
   "metadata": {},
   "outputs": [],
   "source": [
    "from sklearn.model_selection import train_test_split\n",
    "x_train, x_test, y_train, y_test = train_test_split(dataset_after_preprocessing['review'], dataset_after_preprocessing['sentiment'], test_size = 0.5, random_state = 42)  "
   ]
  },
  {
   "cell_type": "markdown",
   "metadata": {},
   "source": [
    "## Number of docs from each category"
   ]
  },
  {
   "cell_type": "code",
   "execution_count": 7,
   "metadata": {},
   "outputs": [
    {
     "name": "stdout",
     "output_type": "stream",
     "text": [
      "The number of docs for the positive category: 25000\n",
      "The number of docs for the negative category: 25000\n"
     ]
    }
   ],
   "source": [
    "print(f\"The number of docs for the positive category: {positive_counter}\")\n",
    "print(f\"The number of docs for the negative category: {negative_counter}\")"
   ]
  },
  {
   "cell_type": "markdown",
   "metadata": {},
   "source": [
    "## Top 10 terms per category\n"
   ]
  },
  {
   "cell_type": "markdown",
   "metadata": {},
   "source": [
    "### unigram"
   ]
  },
  {
   "cell_type": "code",
   "execution_count": 8,
   "metadata": {},
   "outputs": [
    {
     "name": "stdout",
     "output_type": "stream",
     "text": [
      "The top 10 unigram terms - positive category:\n",
      "\n",
      "      Term  Frequency\n",
      "0     film      49326\n",
      "1     movi      43454\n",
      "2      one      27464\n",
      "3     like      20053\n",
      "4     time      15588\n",
      "5      see      14795\n",
      "6     good      14700\n",
      "7    stori      13738\n",
      "8  charact      13714\n",
      "9     make      13195\n",
      "\n",
      "The top 10 unigram terms - negative category:\n",
      "\n",
      "    Term  Frequency\n",
      "0   movi      56280\n",
      "1   film      43342\n",
      "2    one      26116\n",
      "3   like      24112\n",
      "4   make      15438\n",
      "5   even      15372\n",
      "6  would      15222\n",
      "7    get      15171\n",
      "8  watch      14744\n",
      "9   time      14474\n"
     ]
    }
   ],
   "source": [
    "from operator import itemgetter \n",
    "\n",
    "N=10\n",
    "pos_res = dict(sorted(positive_word_dic.items(), key = itemgetter(1), reverse = True)[:N]) \n",
    "df = pd.DataFrame(pos_res.items())\n",
    "df.columns =['Term', 'Frequency'] \n",
    "print(\"The top 10 unigram terms - positive category:\") \n",
    "print()\n",
    "print(df)\n",
    "\n",
    "\n",
    "# format = \"{:<10}{:<10}\"    \n",
    "# print (format.format(\"Word\",\"Frequency\"))\n",
    "# for word,freq in pos_res.items():\n",
    "#     print (format.format(word,freq))\n",
    "    \n",
    "print()\n",
    "\n",
    "neg_res = dict(sorted(negative_word_dic.items(), key = itemgetter(1), reverse = True)[:N]) \n",
    "df = pd.DataFrame(neg_res.items())\n",
    "df.columns =['Term', 'Frequency'] \n",
    "print(\"The top 10 unigram terms - negative category:\") \n",
    "print()\n",
    "print(df)\n"
   ]
  },
  {
   "cell_type": "markdown",
   "metadata": {},
   "source": [
    "### bigram "
   ]
  },
  {
   "cell_type": "code",
   "execution_count": 9,
   "metadata": {},
   "outputs": [
    {
     "name": "stdout",
     "output_type": "stream",
     "text": [
      "The top 10 bigram terms - positive category:\n",
      "\n",
      "                  Term  Frequency\n",
      "0          (one, best)       1662\n",
      "1        (watch, movi)       1285\n",
      "2       (even, though)       1092\n",
      "3          (see, movi)        950\n",
      "4         (ever, seen)        942\n",
      "5         (look, like)        927\n",
      "6        (first, time)        911\n",
      "7  (highli, recommend)        865\n",
      "8          (new, york)        835\n",
      "9      (main, charact)        829\n",
      "\n",
      "The top 10 bigram terms - negative category:\n",
      "\n",
      "                Term  Frequency\n",
      "0       (look, like)       2761\n",
      "1      (watch, movi)       1775\n",
      "2       (ever, seen)       1644\n",
      "3       (wast, time)       1618\n",
      "4  (special, effect)       1446\n",
      "5       (movi, ever)       1322\n",
      "6        (bad, movi)       1199\n",
      "7      (worst, movi)       1123\n",
      "8       (movi, like)       1101\n",
      "9       (make, movi)       1068\n"
     ]
    }
   ],
   "source": [
    "N=10\n",
    "pos_bigram_res = dict(sorted(pos_bigram_dictionary.items(), key = itemgetter(1), reverse = True)[:N]) \n",
    "df = pd.DataFrame(pos_bigram_res.items())\n",
    "df.columns =['Term', 'Frequency'] \n",
    "print(\"The top 10 bigram terms - positive category:\") \n",
    "print()\n",
    "print(df)\n",
    "\n",
    "print()\n",
    "\n",
    "N=10\n",
    "neg_bigram_res = dict(sorted(neg_bigram_dictionary.items(), key = itemgetter(1), reverse = True)[:N]) \n",
    "df = pd.DataFrame(neg_bigram_res.items())\n",
    "df.columns =['Term', 'Frequency'] \n",
    "print(\"The top 10 bigram terms - negative category:\") \n",
    "print()\n",
    "print(df)"
   ]
  },
  {
   "cell_type": "markdown",
   "metadata": {},
   "source": [
    "## Terms (uni-grams, bi-grams) distribution per category"
   ]
  },
  {
   "cell_type": "markdown",
   "metadata": {},
   "source": [
    "### uni-gram"
   ]
  },
  {
   "cell_type": "code",
   "execution_count": 10,
   "metadata": {},
   "outputs": [
    {
     "data": {
      "text/plain": [
       "<function matplotlib.pyplot.show(*args, **kw)>"
      ]
     },
     "execution_count": 10,
     "metadata": {},
     "output_type": "execute_result"
    },
    {
     "data": {
      "image/png": "[encoded data removed]",
      "text/plain": [
       "<Figure size 432x288 with 1 Axes>"
      ]
     },
     "metadata": {
      "needs_background": "light"
     },
     "output_type": "display_data"
    }
   ],
   "source": [
    "from operator import itemgetter \n",
    "import matplotlib.pyplot as plt\n",
    "import numpy as np\n",
    "\n",
    "for key in positive_word_dic:\n",
    "    value = positive_word_dic[key]\n",
    "    positive_word_dic[key] = np.log10(value)\n",
    "\n",
    "plt.hist(positive_word_dic.values())\n",
    "plt.title(\"Unigram - Positive Category\")\n",
    "plt.xlabel(\"Log(Term Frequency)\")\n",
    "plt.ylabel(\"Number of terms\")\n",
    "plt.show"
   ]
  },
  {
   "cell_type": "code",
   "execution_count": 11,
   "metadata": {},
   "outputs": [
    {
     "data": {
      "text/plain": [
       "<function matplotlib.pyplot.show(*args, **kw)>"
      ]
     },
     "execution_count": 11,
     "metadata": {},
     "output_type": "execute_result"
    },
    {
     "data": {
      "image/png": "[encoded data removed]",
      "text/plain": [
       "<Figure size 432x288 with 1 Axes>"
      ]
     },
     "metadata": {
      "needs_background": "light"
     },
     "output_type": "display_data"
    }
   ],
   "source": [
    "for key in negative_word_dic:\n",
    "    value = negative_word_dic[key]\n",
    "    negative_word_dic[key] = np.log10(value)\n",
    "\n",
    "plt.hist(negative_word_dic.values())\n",
    "plt.title(\"Unigram - Negative Category\")\n",
    "plt.xlabel(\"Log(Term Frequency)\")\n",
    "plt.ylabel(\"Number of terms\")\n",
    "plt.show"
   ]
  },
  {
   "cell_type": "markdown",
   "metadata": {},
   "source": [
    "### bi-gram"
   ]
  },
  {
   "cell_type": "code",
   "execution_count": 12,
   "metadata": {},
   "outputs": [
    {
     "data": {
      "text/plain": [
       "<function matplotlib.pyplot.show(*args, **kw)>"
      ]
     },
     "execution_count": 12,
     "metadata": {},
     "output_type": "execute_result"
    },
    {
     "data": {
      "image/png": "[encoded data removed]",
      "text/plain": [
       "<Figure size 432x288 with 1 Axes>"
      ]
     },
     "metadata": {
      "needs_background": "light"
     },
     "output_type": "display_data"
    }
   ],
   "source": [
    "for key in pos_bigram_dictionary:\n",
    "    value = pos_bigram_dictionary[key]\n",
    "    pos_bigram_dictionary[key] = np.log10(value)\n",
    "\n",
    "plt.hist(pos_bigram_dictionary.values())\n",
    "\n",
    "plt.title(\"Bigram - Positive Category\")\n",
    "plt.xlabel(\"Log(Term Frequency)\")\n",
    "plt.ylabel(\"Number of terms\")\n",
    "plt.show\n"
   ]
  },
  {
   "cell_type": "code",
   "execution_count": 13,
   "metadata": {},
   "outputs": [
    {
     "data": {
      "text/plain": [
       "<function matplotlib.pyplot.show(*args, **kw)>"
      ]
     },
     "execution_count": 13,
     "metadata": {},
     "output_type": "execute_result"
    },
    {
     "data": {
      "image/png": "[encoded data removed]",
      "text/plain": [
       "<Figure size 432x288 with 1 Axes>"
      ]
     },
     "metadata": {
      "needs_background": "light"
     },
     "output_type": "display_data"
    }
   ],
   "source": [
    "for key in neg_bigram_dictionary:\n",
    "    value = neg_bigram_dictionary[key]\n",
    "    neg_bigram_dictionary[key] = np.log10(value)\n",
    "    \n",
    "plt.hist(neg_bigram_dictionary.values())\n",
    "\n",
    "plt.title(\"Bigram - Negative Category\")\n",
    "plt.xlabel(\"Log(Term Frequency)\")\n",
    "plt.ylabel(\"Number of terms\")\n",
    "plt.show"
   ]
  },
  {
   "cell_type": "markdown",
   "metadata": {},
   "source": [
    "# Document classification – un-supervised learning:"
   ]
  },
  {
   "cell_type": "code",
   "execution_count": 14,
   "metadata": {},
   "outputs": [
    {
     "name": "stderr",
     "output_type": "stream",
     "text": [
      "[nltk_data] Downloading package averaged_perceptron_tagger to\n",
      "[nltk_data]     C:\\Users\\eden0\\AppData\\Roaming\\nltk_data...\n",
      "[nltk_data]   Package averaged_perceptron_tagger is already up-to-\n",
      "[nltk_data]       date!\n",
      "[nltk_data] Downloading package sentiwordnet to\n",
      "[nltk_data]     C:\\Users\\eden0\\AppData\\Roaming\\nltk_data...\n",
      "[nltk_data]   Package sentiwordnet is already up-to-date!\n",
      "[nltk_data] Downloading package wordnet to\n",
      "[nltk_data]     C:\\Users\\eden0\\AppData\\Roaming\\nltk_data...\n",
      "[nltk_data]   Package wordnet is already up-to-date!\n"
     ]
    }
   ],
   "source": [
    "import nltk\n",
    "nltk.download('averaged_perceptron_tagger')\n",
    "nltk.download('sentiwordnet')\n",
    "nltk.download('wordnet')\n",
    "from nltk.corpus import sentiwordnet as swn"
   ]
  },
  {
   "cell_type": "code",
   "execution_count": 15,
   "metadata": {},
   "outputs": [],
   "source": [
    "taggedlist=[]\n",
    "# Create POS tagging for each token\n",
    "for ind in x_test.index:\n",
    "    taggedlist.append(nltk.pos_tag(x_test[ind].split()))\n",
    "wnl = nltk.WordNetLemmatizer()"
   ]
  },
  {
   "cell_type": "code",
   "execution_count": 16,
   "metadata": {},
   "outputs": [],
   "source": [
    "score_list=[]\n",
    "to_print = True\n",
    "# iterate over all tokens for each review\n",
    "for idx,taggedsent in enumerate(taggedlist):  \n",
    "    score_list.append([])\n",
    "    for idx2,t in enumerate(taggedsent):  \n",
    "        newtag=''\n",
    "        #t[0] word, t[1] pos tag\n",
    "        lemmatized=wnl.lemmatize(t[0])\n",
    "        if t[1].startswith('NN'):\n",
    "            newtag='n'\n",
    "        elif t[1].startswith('JJ'):\n",
    "            newtag='a'\n",
    "        elif t[1].startswith('V'):\n",
    "            newtag='v'\n",
    "        elif t[1].startswith('R'):\n",
    "            newtag='r'\n",
    "        else:\n",
    "            newtag=''       \n",
    "        if(newtag!=''):    \n",
    "            synsets = list(swn.senti_synsets(lemmatized, newtag))\n",
    "            # synsets contains for each token the probability for negative, positive and objective\n",
    "            # Getting average of all possible sentiments        \n",
    "            score=0\n",
    "            if(len(synsets)>0):\n",
    "                for syn in synsets:\n",
    "                    score+=syn.pos_score()-syn.neg_score()\n",
    "                score_list[idx].append(score/len(synsets))            "
   ]
  },
  {
   "cell_type": "code",
   "execution_count": 17,
   "metadata": {},
   "outputs": [
    {
     "name": "stdout",
     "output_type": "stream",
     "text": [
      "Accuracy Score for unsupervised learning:  0.63064\n"
     ]
    }
   ],
   "source": [
    "review_sentiment=[]\n",
    "\n",
    "for score_sent in score_list:\n",
    "    score = sum([word_score for word_score in score_sent])/len(score_sent)\n",
    "    if score > 0:\n",
    "        review_sentiment.append(\"positive\")\n",
    "    else:\n",
    "        review_sentiment.append(\"negative\")\n",
    "\n",
    "from sklearn.metrics import accuracy_score\n",
    "\n",
    "print(\"Accuracy Score for unsupervised learning: \",accuracy_score(y_test, review_sentiment))"
   ]
  },
  {
   "cell_type": "markdown",
   "metadata": {},
   "source": [
    "# Document classification – supervised learning:"
   ]
  },
  {
   "cell_type": "markdown",
   "metadata": {},
   "source": [
    "# feature extraction"
   ]
  },
  {
   "cell_type": "code",
   "execution_count": 18,
   "metadata": {},
   "outputs": [
    {
     "name": "stdout",
     "output_type": "stream",
     "text": [
      "y train:\n",
      "25858    negative\n",
      "10784    negative\n",
      "24807    positive\n",
      "49534    negative\n",
      "3345     negative\n",
      "           ...   \n",
      "11284    positive\n",
      "44732    positive\n",
      "38158    negative\n",
      "860      positive\n",
      "15795    positive\n",
      "Name: sentiment, Length: 25000, dtype: object\n",
      "x train:\n",
      "  (0, 1808)\t2\n",
      "  (0, 672)\t1\n",
      "  (0, 6135)\t1\n",
      "  (0, 5646)\t1\n",
      "  (0, 8972)\t1\n",
      "  (0, 4979)\t1\n",
      "  (0, 9470)\t1\n",
      "  (0, 1442)\t1\n",
      "  (0, 8166)\t1\n",
      "  (0, 1427)\t2\n",
      "  (0, 6989)\t1\n",
      "  (0, 9754)\t1\n",
      "  (0, 8277)\t1\n",
      "  (0, 7690)\t2\n",
      "  (0, 3725)\t1\n",
      "  (0, 6690)\t2\n",
      "  (0, 3818)\t1\n",
      "  (0, 606)\t1\n",
      "  (0, 8049)\t1\n",
      "  (0, 5822)\t1\n",
      "  (0, 8801)\t1\n",
      "  (0, 1363)\t1\n",
      "  (0, 4753)\t2\n",
      "  (0, 617)\t2\n",
      "  (0, 7824)\t1\n",
      "  :\t:\n",
      "  (24999, 5280)\t1\n",
      "  (24999, 851)\t1\n",
      "  (24999, 8987)\t1\n",
      "  (24999, 4750)\t1\n",
      "  (24999, 4562)\t1\n",
      "  (24999, 2996)\t1\n",
      "  (24999, 5389)\t1\n",
      "  (24999, 1401)\t1\n",
      "  (24999, 1123)\t1\n",
      "  (24999, 4143)\t1\n",
      "  (24999, 9259)\t1\n",
      "  (24999, 7977)\t1\n",
      "  (24999, 2204)\t1\n",
      "  (24999, 4456)\t1\n",
      "  (24999, 3143)\t1\n",
      "  (24999, 7677)\t1\n",
      "  (24999, 8526)\t1\n",
      "  (24999, 3853)\t1\n",
      "  (24999, 6362)\t1\n",
      "  (24999, 9118)\t1\n",
      "  (24999, 8890)\t1\n",
      "  (24999, 5515)\t1\n",
      "  (24999, 2412)\t1\n",
      "  (24999, 3062)\t1\n",
      "  (24999, 1454)\t1\n",
      "train feature matrix:\n",
      "[[0 0 0 ... 0 0 0]\n",
      " [0 0 0 ... 0 0 0]\n",
      " [0 0 0 ... 0 0 0]\n",
      " ...\n",
      " [0 0 0 ... 0 0 0]\n",
      " [0 0 0 ... 0 0 0]\n",
      " [0 0 0 ... 0 0 0]]\n",
      "test feature matrix:\n",
      "[[0 0 0 ... 0 0 0]\n",
      " [0 0 0 ... 0 0 0]\n",
      " [0 0 0 ... 0 0 0]\n",
      " ...\n",
      " [0 0 0 ... 0 0 0]\n",
      " [0 0 0 ... 0 0 0]\n",
      " [0 0 0 ... 0 0 0]]\n",
      "bigram feature names:\n"
     ]
    }
   ],
   "source": [
    "#feature extraction:\n",
    "\n",
    "from __future__ import print_function\n",
    "\n",
    "import logging\n",
    "import numpy as np\n",
    "import sys\n",
    "from time import time\n",
    "import matplotlib.pyplot as plt\n",
    "\n",
    "from sklearn.datasets import fetch_20newsgroups\n",
    "from sklearn.feature_extraction.text import TfidfVectorizer\n",
    "from sklearn.feature_extraction.text import CountVectorizer\n",
    "from sklearn.pipeline import Pipeline\n",
    "from sklearn.utils.extmath import density\n",
    "from sklearn import metrics\n",
    "import pickle\n",
    "\n",
    "\n",
    "#bigram:\n",
    "# train , test = split_train_test(dataset_after_preprocessing)\n",
    "# bigram_vectorizer = CountVectorizer(ngram_range=(1,2),token_pattern=r'\\b\\w+\\b',min_df=1)\n",
    "bigram_vectorizer= CountVectorizer(max_features=10000)\n",
    "#Train:\n",
    "# corpus_train=[]\n",
    "# for entry in train[\"review\"]:\n",
    "#     corpus_train.append(entry)\n",
    "# Y_train=[]\n",
    "# for entry in train[\"sentiment\"]:\n",
    "#     Y_train.append(entry)\n",
    "    \n",
    "X_train_v = bigram_vectorizer.fit_transform(x_train)\n",
    "\n",
    "print(\"y train:\")\n",
    "print(y_train)\n",
    "print(\"x train:\")\n",
    "print(X_train_v)\n",
    "\n",
    "#Test:\n",
    "\n",
    "# corpus_test=[]\n",
    "# for entry in test[\"review\"]:\n",
    "#     corpus_test.append(entry)\n",
    "X_test_v = bigram_vectorizer.transform(x_test)\n",
    "\n",
    "\n",
    "print(\"train feature matrix:\")\n",
    "print(X_train_v.toarray())\n",
    "print(\"test feature matrix:\")\n",
    "print(X_test_v.toarray())\n",
    "print(\"bigram feature names:\")\n",
    "# print(bigram_vectorizer.get_feature_names())\n",
    "\n",
    "\n",
    "#tf_idf:\n",
    "tf_idf_vectorizer = TfidfVectorizer(sublinear_tf=True,max_df=0.5,stop_words=\"english\")\n",
    "\n",
    "#train:\n",
    "X_train_tfidf=tf_idf_vectorizer.fit_transform(x_train)\n",
    "\n",
    "Y_train_tfidf=y_train\n",
    "\n",
    "# print(\"y train tf idf:\")\n",
    "# print(Y_train_tfidf)\n",
    "# print(\"x train tf idf :\")\n",
    "# print(X_train_tfidf)\n",
    "#test :    \n",
    "X_test_tfidf=tf_idf_vectorizer.transform(x_test)\n",
    "\n",
    "Y_test_tfidf=y_test\n",
    "\n",
    "\n",
    "\n",
    "\n",
    "# print(\"features in train:\")\n",
    "# X_train_tfidf\n",
    "# print(\"features in test:\")\n",
    "# X_test_tfidf\n",
    "\n",
    "# print(X_train_tfidf.toarray())\n",
    "# print(\"n_samples: %d, n_features: %d\" % X_train_tfidf.shape)\n",
    "\n",
    "# print(\"X_test_tfidf\")\n",
    "# print(X_test_tfidf.toarray())\n",
    "# print(\"n_samples: %d, n_features: %d\" % X_test_tfidf.shape)\n",
    "\n",
    "\n"
   ]
  },
  {
   "cell_type": "markdown",
   "metadata": {},
   "source": [
    "# Classify using machine learning methods"
   ]
  },
  {
   "cell_type": "code",
   "execution_count": 20,
   "metadata": {},
   "outputs": [
    {
     "name": "stdout",
     "output_type": "stream",
     "text": [
      "================================================================================\n",
      "SVM  bag of words\n",
      "________________________________________________________________________________\n",
      "Training: \n",
      "SGDClassifier(alpha=0.0001, average=False, class_weight=None,\n",
      "              early_stopping=False, epsilon=0.1, eta0=0.0, fit_intercept=True,\n",
      "              l1_ratio=0.15, learning_rate='optimal', loss='hinge',\n",
      "              max_iter=1000, n_iter_no_change=5, n_jobs=None, penalty='l2',\n",
      "              power_t=0.5, random_state=1, shuffle=True, tol=0.001,\n",
      "              validation_fraction=0.1, verbose=0, warm_start=False)\n",
      "train time:  0.9526247978210449\n",
      "test time:   0.016953706741333008\n",
      "accuracy:    85.8\n",
      "\n",
      "SVM  tf_idf\n",
      "________________________________________________________________________________\n",
      "Training: \n",
      "SGDClassifier(alpha=0.0001, average=False, class_weight=None,\n",
      "              early_stopping=False, epsilon=0.1, eta0=0.0, fit_intercept=True,\n",
      "              l1_ratio=0.15, learning_rate='optimal', loss='hinge',\n",
      "              max_iter=1000, n_iter_no_change=5, n_jobs=None, penalty='l2',\n",
      "              power_t=0.5, random_state=1, shuffle=True, tol=0.001,\n",
      "              validation_fraction=0.1, verbose=0, warm_start=False)\n",
      "train time:  0.2445073127746582\n",
      "test time:   0.004038810729980469\n",
      "accuracy:    88.66000000000001\n",
      "\n",
      "================================================================================\n",
      "Perceptron  bag of words\n",
      "________________________________________________________________________________\n",
      "Training: \n",
      "Perceptron(alpha=0.0001, class_weight=None, early_stopping=False, eta0=1.0,\n",
      "           fit_intercept=True, max_iter=1000, n_iter_no_change=5, n_jobs=None,\n",
      "           penalty=None, random_state=1, shuffle=True, tol=0.001,\n",
      "           validation_fraction=0.1, verbose=0, warm_start=False)\n",
      "train time:  1.1617951393127441\n",
      "test time:   0.012966156005859375\n",
      "accuracy:    84.136\n",
      "\n",
      "Perceptron  tf_idf\n",
      "________________________________________________________________________________\n",
      "Training: \n",
      "Perceptron(alpha=0.0001, class_weight=None, early_stopping=False, eta0=1.0,\n",
      "           fit_intercept=True, max_iter=1000, n_iter_no_change=5, n_jobs=None,\n",
      "           penalty=None, random_state=1, shuffle=True, tol=0.001,\n",
      "           validation_fraction=0.1, verbose=0, warm_start=False)\n",
      "train time:  0.12711429595947266\n",
      "test time:   0.0069806575775146484\n",
      "accuracy:    85.60799999999999\n",
      "\n",
      "================================================================================\n",
      "Naive Bayes  bag of words\n",
      "________________________________________________________________________________\n",
      "Training: \n",
      "MultinomialNB(alpha=1.0, class_prior=None, fit_prior=True)\n",
      "train time:  0.10272812843322754\n",
      "test time:   0.03191328048706055\n",
      "accuracy:    84.66799999999999\n",
      "\n",
      "Naive Bayes  tf_idf\n",
      "________________________________________________________________________________\n",
      "Training: \n",
      "MultinomialNB(alpha=1.0, class_prior=None, fit_prior=True)\n",
      "train time:  0.08368396759033203\n",
      "test time:   0.02043461799621582\n",
      "accuracy:    85.684\n",
      "\n"
     ]
    },
    {
     "data": {
      "image/png": "[encoded data removed]",
      "text/plain": [
       "<Figure size 864x576 with 1 Axes>"
      ]
     },
     "metadata": {
      "needs_background": "light"
     },
     "output_type": "display_data"
    }
   ],
   "source": [
    "#prediction:\n",
    "from sklearn.linear_model import SGDClassifier\n",
    "from sklearn.linear_model import Perceptron\n",
    "from sklearn.naive_bayes import MultinomialNB\n",
    "import pickle\n",
    "\n",
    "\n",
    "def trim(s):\n",
    "    \"\"\"Trim string to fit on terminal (assuming 80-column display)\"\"\"\n",
    "    return s if len(s) <= 80 else s[:77] + \"...\"\n",
    "\n",
    "\n",
    "# Benchmark classifiers, training model with train set \n",
    "# print the accurecy(of test set) , test time and train time \n",
    "# return the model name ,  score , test time and train time \n",
    "def benchmark(clf,Xtrain,Ytrain,Xtest,Ytest,nameOfFeatureExt):\n",
    "    print('_' * 80)\n",
    "    print(\"Training: \")\n",
    "    print(clf)\n",
    "    t0 = time()\n",
    "    clf.fit(Xtrain, Ytrain)\n",
    "    train_time = time() - t0\n",
    "    print(\"train time: \",train_time)\n",
    "\n",
    "    t0 = time()\n",
    "    pred = clf.predict(Xtest)\n",
    "    test_time = time() - t0\n",
    "    print(\"test time:  \", test_time)\n",
    "\n",
    "    score = metrics.accuracy_score(Ytest, pred)\n",
    "    print(\"accuracy:   \",score*100)\n",
    "\n",
    "    print()\n",
    "    clf_descr = str(clf).split('(')[0]+nameOfFeatureExt\n",
    "    return clf_descr, score, train_time, test_time\n",
    "\n",
    "\n",
    "# the function run SVM Perceptron and Naive Bayes models \n",
    "# the function get x_train and x_test after features extraction of two methods \n",
    "def runModels(X_train_v,y_train,X_test_v,y_test, X_train_tfidf,Y_train_tfidf,X_test_tfidf,Y_test_tfidf):\n",
    "    results = []\n",
    "    for clf, name in (\n",
    "            (SGDClassifier(random_state=1),\"SVM\"),\n",
    "            (Perceptron(random_state=1), \"Perceptron\"),\n",
    "            (MultinomialNB(),\"Naive Bayes\")):\n",
    "        print('=' * 80)\n",
    "        print(name,\" bag of words\")\n",
    "        results.append(benchmark(clf,X_train_v,y_train,X_test_v,y_test,\" Bag Of Words\"))\n",
    "        print(name,\" tf_idf\")\n",
    "        results.append(benchmark(clf,X_train_tfidf,Y_train_tfidf,X_test_tfidf,Y_test_tfidf,\" TF_IDF\"))\n",
    "    return results\n",
    "\n",
    "results=runModels(X_train_v,y_train,X_test_v,y_test, X_train_tfidf,Y_train_tfidf,X_test_tfidf,Y_test_tfidf)\n",
    "   \n",
    "# make some plots\n",
    "\n",
    "indices = np.arange(len(results))\n",
    "\n",
    "results = [[x[i] for x in results] for i in range(4)]\n",
    "\n",
    "clf_names, score, training_time, test_time = results\n",
    "training_time = np.array(training_time) / np.max(training_time)\n",
    "test_time = np.array(test_time) / np.max(test_time)\n",
    "\n",
    "plt.figure(figsize=(12, 8))\n",
    "plt.title(\"Score\")\n",
    "plt.barh(indices, score, .2, label=\"score\", color='navy')\n",
    "plt.barh(indices + .3, training_time, .2, label=\"training time\",\n",
    "         color='c')\n",
    "plt.barh(indices + .6, test_time, .2, label=\"test time\", color='darkorange')\n",
    "plt.yticks(())\n",
    "plt.legend(loc='best')\n",
    "plt.subplots_adjust(left=.25)\n",
    "plt.subplots_adjust(top=.95)\n",
    "plt.subplots_adjust(bottom=.05)\n",
    "\n",
    "for i, c in zip(indices, clf_names):\n",
    "    plt.text(-.3, i, c)\n",
    "\n",
    "plt.show()"
   ]
  },
  {
   "cell_type": "markdown",
   "metadata": {},
   "source": [
    "# Tune each model parameters, as well as pre-processing and parameters steps to optimize the results"
   ]
  },
  {
   "cell_type": "code",
   "execution_count": 22,
   "metadata": {},
   "outputs": [
    {
     "name": "stdout",
     "output_type": "stream",
     "text": [
      "================================================================================\n",
      "SVM  tf_idf\n",
      "Best score:    0.8946799999999999\n",
      "Best params:    {'clf__alpha': 1e-05, 'vect__max_df': 0.5, 'vect__ngram_range': (1, 2)}\n",
      "accuracy:   89.936\n",
      "SVM  bag of words\n",
      "Best score:    0.87748\n",
      "Best params:    {'clf__alpha': 0.01, 'vect__max_df': 0.3, 'vect__ngram_range': (1, 2)}\n",
      "accuracy:   88.008\n",
      "================================================================================\n",
      "Perceptron  tf_idf\n",
      "Best score:    0.88024\n",
      "Best params:    {'clf__alpha': 1e-06, 'vect__max_df': 0.6, 'vect__ngram_range': (1, 2)}\n",
      "accuracy:   88.5\n",
      "Perceptron  bag of words\n",
      "Best score:    0.8476800000000001\n",
      "Best params:    {'clf__alpha': 1e-06, 'vect__max_df': 0.6, 'vect__ngram_range': (1, 2)}\n",
      "accuracy:   84.804\n",
      "================================================================================\n",
      "Naive Bayes  tf_idf\n",
      "Best score:    0.8623200000000001\n",
      "Best params:    {'clf__alpha': 0.01, 'vect__max_df': 0.3, 'vect__ngram_range': (1, 2)}\n",
      "accuracy:   86.936\n",
      "Naive Bayes  bag of words\n",
      "Best score:    0.8585200000000001\n",
      "Best params:    {'clf__alpha': 0.01, 'vect__max_df': 0.3, 'vect__ngram_range': (1, 2)}\n",
      "accuracy:   85.992\n"
     ]
    }
   ],
   "source": [
    "#Optimize the NB Classifier:\n",
    "\n",
    "from sklearn.pipeline import Pipeline\n",
    "from sklearn.model_selection import GridSearchCV\n",
    "\n",
    "\n",
    "# the function try to optimize the model using pipeline, \n",
    "# the function check the parameters : vect__max_df,vect__ngram_range , clf__alpha\n",
    "# return the best accurecy and params of the model and feature extraction method \n",
    "def OptimizeClassifier(model_name,fe_name, model,vectorizer):\n",
    "#tf_idf\n",
    "    filename = 'model' +'.' +model_name + '.' + fe_name + '.sav'\n",
    "    try:\n",
    "    #load the model from disk (if there is)\n",
    "        gs_clf = pickle.load(open(filename, 'rb'))\n",
    "    except:\n",
    "        nb_clf = Pipeline([('vect', vectorizer),('clf',model )])\n",
    "        parameters =  {'vect__max_df': (0.3,0.4, 0.5, 0.6, 0.7, 0.8), 'vect__ngram_range': ((1, 1), (1, 2)),\n",
    "              'clf__alpha': (0.000001, 0.00001, 0.0001, 0.001, 0.01)}\n",
    "        gs_clf = GridSearchCV(nb_clf, parameters, n_jobs=3)\n",
    "        gs_clf = gs_clf.fit(x_train,y_train)\n",
    "        pickle.dump(gs_clf, open(filename, 'wb'))\n",
    "    print('Best score:   ',gs_clf.best_score_)\n",
    "    print('Best params:   ',gs_clf.best_params_)\n",
    "    prediction = gs_clf.predict(x_test)\n",
    "    accurecy=metrics.accuracy_score(y_test,prediction)\n",
    "    print(\"accuracy:  \",accurecy*100)\n",
    "    return gs_clf.best_score_,gs_clf.best_params_,accurecy\n",
    "\n",
    "    \n",
    "    \n",
    "\n",
    "results = []\n",
    "for clf, name in (\n",
    "        (SGDClassifier(random_state=1),\"SVM\"),\n",
    "        (Perceptron(random_state=1), \"Perceptron\"),\n",
    "        (MultinomialNB(),\"Naive Bayes\")):\n",
    "    print('=' * 80)\n",
    "    print(name,\" tf_idf\")\n",
    "    results.append(OptimizeClassifier(name,\"tf_idf\",clf,TfidfVectorizer()))\n",
    "    print(name,\" bag of words\")\n",
    "    results.append(OptimizeClassifier(name,\"bag of words\",clf,CountVectorizer(max_features=10000)))\n",
    "\n",
    "\n",
    "\n",
    "\n"
   ]
  }
 ],
 "metadata": {
  "kernelspec": {
   "display_name": "Python 3",
   "language": "python",
   "name": "python3"
  },
  "language_info": {
   "codemirror_mode": {
    "name": "ipython",
    "version": 3
   },
   "file_extension": ".py",
   "mimetype": "text/x-python",
   "name": "python",
   "nbconvert_exporter": "python",
   "pygments_lexer": "ipython3",
   "version": "3.7.6"
  }
 },
 "nbformat": 4,
 "nbformat_minor": 4
}
